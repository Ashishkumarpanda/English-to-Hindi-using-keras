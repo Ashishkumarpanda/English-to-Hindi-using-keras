{
  "nbformat": 4,
  "nbformat_minor": 0,
  "metadata": {
    "colab": {
      "name": "Languagetranslation.ipynb",
      "provenance": [],
      "authorship_tag": "ABX9TyPQJ4qBQyJMlEaCGPlh0UJj",
      "include_colab_link": true
    },
    "kernelspec": {
      "name": "python3",
      "display_name": "Python 3"
    }
  },
  "cells": [
    {
      "cell_type": "markdown",
      "metadata": {
        "id": "view-in-github",
        "colab_type": "text"
      },
      "source": [
        "<a href=\"https://colab.research.google.com/github/Ashishkumarpanda/English-to-Hindi-using-keras/blob/main/Languagetranslation.ipynb\" target=\"_parent\"><img src=\"https://colab.research.google.com/assets/colab-badge.svg\" alt=\"Open In Colab\"/></a>"
      ]
    },
    {
      "cell_type": "code",
      "metadata": {
        "id": "Z3_Wh-X0LDND",
        "outputId": "c35fcb4f-1d2f-4828-c24a-581403b6de0d",
        "colab": {
          "resources": {
            "http://localhost:8080/nbextensions/google.colab/files.js": {
              "data": "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",
              "ok": true,
              "headers": [
                [
                  "content-type",
                  "application/javascript"
                ]
              ],
              "status": 200,
              "status_text": ""
            }
          },
          "base_uri": "https://localhost:8080/",
          "height": 73
        }
      },
      "source": [
        "from google.colab import files\n",
        "a = files.upload(\n",
        "    \n",
        ")"
      ],
      "execution_count": 2,
      "outputs": [
        {
          "output_type": "display_data",
          "data": {
            "text/html": [
              "\n",
              "     <input type=\"file\" id=\"files-eaac6738-1df1-4e88-8df0-569868810824\" name=\"files[]\" multiple disabled\n",
              "        style=\"border:none\" />\n",
              "     <output id=\"result-eaac6738-1df1-4e88-8df0-569868810824\">\n",
              "      Upload widget is only available when the cell has been executed in the\n",
              "      current browser session. Please rerun this cell to enable.\n",
              "      </output>\n",
              "      <script src=\"/nbextensions/google.colab/files.js\"></script> "
            ],
            "text/plain": [
              "<IPython.core.display.HTML object>"
            ]
          },
          "metadata": {
            "tags": []
          }
        },
        {
          "output_type": "stream",
          "text": [
            "Saving hin.txt to hin.txt\n"
          ],
          "name": "stdout"
        }
      ]
    },
    {
      "cell_type": "code",
      "metadata": {
        "id": "WPOFI1xmSV2m"
      },
      "source": [
        "import numpy as np\n",
        "import tensorflow as tf\n",
        "from tensorflow import keras"
      ],
      "execution_count": 3,
      "outputs": []
    },
    {
      "cell_type": "code",
      "metadata": {
        "id": "pmzin_d4SV6P"
      },
      "source": [
        "batch_size = 64  # Batch size for training.\n",
        "epochs = 100  # Number of epochs to train for.\n",
        "latent_dim = 256  # Latent dimensionality of the encoding space.\n",
        "num_samples = 10000  # Number of samples to train on.\n",
        "# Path to the data txt file on disk.\n",
        "data_path = \"hin.txt\""
      ],
      "execution_count": 12,
      "outputs": []
    },
    {
      "cell_type": "code",
      "metadata": {
        "id": "T0mRbpFNSV9M"
      },
      "source": [
        "# Vectorize the data.\n",
        "input_texts = []\n",
        "target_texts = []\n",
        "input_characters = set()\n",
        "target_characters = set()\n",
        "with open(data_path, \"r\", encoding=\"utf-8\") as f:\n",
        "    lines = f.read().split(\"\\n\")\n",
        "for line in lines[: min(num_samples, len(lines) - 1)]:\n",
        "    input_text, target_text, _ = line.split(\"\\t\")\n",
        "    # We use \"tab\" as the \"start sequence\" character\n",
        "    # for the targets, and \"\\n\" as \"end sequence\" character.\n",
        "    target_text = \"\\t\" + target_text + \"\\n\"\n",
        "    input_texts.append(input_text)\n",
        "    target_texts.append(target_text)\n",
        "    for char in input_text:\n",
        "        if char not in input_characters:\n",
        "            input_characters.add(char)\n",
        "    for char in target_text:\n",
        "        if char not in target_characters:\n",
        "            target_characters.add(char)"
      ],
      "execution_count": 13,
      "outputs": []
    },
    {
      "cell_type": "code",
      "metadata": {
        "id": "AO9rfA9ySV_-",
        "outputId": "88bed30d-3c72-4e6b-982e-048b5097366d",
        "colab": {
          "base_uri": "https://localhost:8080/",
          "height": 35
        }
      },
      "source": [
        "#english text\n",
        "input_texts[1]"
      ],
      "execution_count": 15,
      "outputs": [
        {
          "output_type": "execute_result",
          "data": {
            "application/vnd.google.colaboratory.intrinsic+json": {
              "type": "string"
            },
            "text/plain": [
              "'Help!'"
            ]
          },
          "metadata": {
            "tags": []
          },
          "execution_count": 15
        }
      ]
    },
    {
      "cell_type": "code",
      "metadata": {
        "id": "r_DHKkK_SWCK",
        "outputId": "7022464a-1b05-4ede-d6c3-aa7dd330b0e9",
        "colab": {
          "base_uri": "https://localhost:8080/",
          "height": 35
        }
      },
      "source": [
        "#hindi text\n",
        "target_texts[1]"
      ],
      "execution_count": 16,
      "outputs": [
        {
          "output_type": "execute_result",
          "data": {
            "application/vnd.google.colaboratory.intrinsic+json": {
              "type": "string"
            },
            "text/plain": [
              "'\\tबचाओ!\\n'"
            ]
          },
          "metadata": {
            "tags": []
          },
          "execution_count": 16
        }
      ]
    },
    {
      "cell_type": "code",
      "metadata": {
        "id": "asPF4RdkSWEg",
        "outputId": "9120479d-d1ea-494c-96f3-b131c8133b29",
        "colab": {
          "base_uri": "https://localhost:8080/"
        }
      },
      "source": [
        "input_characters"
      ],
      "execution_count": 17,
      "outputs": [
        {
          "output_type": "execute_result",
          "data": {
            "text/plain": [
              "{' ',\n",
              " '!',\n",
              " '\"',\n",
              " '$',\n",
              " \"'\",\n",
              " ',',\n",
              " '-',\n",
              " '.',\n",
              " '0',\n",
              " '1',\n",
              " '2',\n",
              " '3',\n",
              " '4',\n",
              " '5',\n",
              " '6',\n",
              " '7',\n",
              " '8',\n",
              " '9',\n",
              " ':',\n",
              " '?',\n",
              " 'A',\n",
              " 'B',\n",
              " 'C',\n",
              " 'D',\n",
              " 'E',\n",
              " 'F',\n",
              " 'G',\n",
              " 'H',\n",
              " 'I',\n",
              " 'J',\n",
              " 'K',\n",
              " 'L',\n",
              " 'M',\n",
              " 'N',\n",
              " 'O',\n",
              " 'P',\n",
              " 'Q',\n",
              " 'R',\n",
              " 'S',\n",
              " 'T',\n",
              " 'U',\n",
              " 'V',\n",
              " 'W',\n",
              " 'Y',\n",
              " 'a',\n",
              " 'b',\n",
              " 'c',\n",
              " 'd',\n",
              " 'e',\n",
              " 'f',\n",
              " 'g',\n",
              " 'h',\n",
              " 'i',\n",
              " 'j',\n",
              " 'k',\n",
              " 'l',\n",
              " 'm',\n",
              " 'n',\n",
              " 'o',\n",
              " 'p',\n",
              " 'q',\n",
              " 'r',\n",
              " 's',\n",
              " 't',\n",
              " 'u',\n",
              " 'v',\n",
              " 'w',\n",
              " 'x',\n",
              " 'y',\n",
              " 'z'}"
            ]
          },
          "metadata": {
            "tags": []
          },
          "execution_count": 17
        }
      ]
    },
    {
      "cell_type": "code",
      "metadata": {
        "id": "ladno0gVSWHD",
        "outputId": "bc25270b-3942-48b6-cbbd-4001f31e7cfb",
        "colab": {
          "base_uri": "https://localhost:8080/"
        }
      },
      "source": [
        "target_characters"
      ],
      "execution_count": 18,
      "outputs": [
        {
          "output_type": "execute_result",
          "data": {
            "text/plain": [
              "{'\\t',\n",
              " '\\n',\n",
              " ' ',\n",
              " '!',\n",
              " '\"',\n",
              " '(',\n",
              " ')',\n",
              " ',',\n",
              " '-',\n",
              " '.',\n",
              " ':',\n",
              " '?',\n",
              " 'A',\n",
              " 'B',\n",
              " 'I',\n",
              " '|',\n",
              " 'ँ',\n",
              " 'ं',\n",
              " 'ः',\n",
              " 'अ',\n",
              " 'आ',\n",
              " 'इ',\n",
              " 'ई',\n",
              " 'उ',\n",
              " 'ऊ',\n",
              " 'ऋ',\n",
              " 'ए',\n",
              " 'ऐ',\n",
              " 'ऑ',\n",
              " 'ओ',\n",
              " 'औ',\n",
              " 'क',\n",
              " 'ख',\n",
              " 'ग',\n",
              " 'घ',\n",
              " 'च',\n",
              " 'छ',\n",
              " 'ज',\n",
              " 'झ',\n",
              " 'ञ',\n",
              " 'ट',\n",
              " 'ठ',\n",
              " 'ड',\n",
              " 'ढ',\n",
              " 'ण',\n",
              " 'त',\n",
              " 'थ',\n",
              " 'द',\n",
              " 'ध',\n",
              " 'न',\n",
              " 'प',\n",
              " 'फ',\n",
              " 'ब',\n",
              " 'भ',\n",
              " 'म',\n",
              " 'य',\n",
              " 'र',\n",
              " 'ल',\n",
              " 'व',\n",
              " 'श',\n",
              " 'ष',\n",
              " 'स',\n",
              " 'ह',\n",
              " '़',\n",
              " 'ा',\n",
              " 'ि',\n",
              " 'ी',\n",
              " 'ु',\n",
              " 'ू',\n",
              " 'ृ',\n",
              " 'ॅ',\n",
              " 'े',\n",
              " 'ै',\n",
              " 'ॉ',\n",
              " 'ो',\n",
              " 'ौ',\n",
              " '्',\n",
              " '।',\n",
              " '०',\n",
              " '१',\n",
              " '२',\n",
              " '४',\n",
              " '५',\n",
              " '६',\n",
              " '७',\n",
              " '८',\n",
              " '९',\n",
              " '\\u200d'}"
            ]
          },
          "metadata": {
            "tags": []
          },
          "execution_count": 18
        }
      ]
    },
    {
      "cell_type": "code",
      "metadata": {
        "id": "lsNwuXokSWU7"
      },
      "source": [
        "input_characters = sorted(list(input_characters))\n",
        "target_characters = sorted(list(target_characters))\n",
        "num_encoder_tokens = len(input_characters)\n",
        "num_decoder_tokens = len(target_characters)\n",
        "max_encoder_seq_length = max([len(txt) for txt in input_texts])\n",
        "max_decoder_seq_length = max([len(txt) for txt in target_texts])"
      ],
      "execution_count": 21,
      "outputs": []
    },
    {
      "cell_type": "code",
      "metadata": {
        "id": "36bLSQW5SWYX",
        "outputId": "79134e8f-a8c0-456b-a045-2d87b7f145ad",
        "colab": {
          "base_uri": "https://localhost:8080/"
        }
      },
      "source": [
        "print(\"Number of samples:\", len(input_texts))\n",
        "print(\"Number of unique input tokens:\", num_encoder_tokens)\n",
        "print(\"Number of unique output tokens:\", num_decoder_tokens)\n",
        "print(\"Max sequence length for inputs:\", max_encoder_seq_length)\n",
        "print(\"Max sequence length for outputs:\", max_decoder_seq_length)\n"
      ],
      "execution_count": 22,
      "outputs": [
        {
          "output_type": "stream",
          "text": [
            "Number of samples: 2773\n",
            "Number of unique input tokens: 70\n",
            "Number of unique output tokens: 88\n",
            "Max sequence length for inputs: 107\n",
            "Max sequence length for outputs: 123\n"
          ],
          "name": "stdout"
        }
      ]
    },
    {
      "cell_type": "code",
      "metadata": {
        "id": "t_XCZoaESWbH",
        "outputId": "e414f98f-e7f9-4620-e3ed-580ae51749d9",
        "colab": {
          "base_uri": "https://localhost:8080/"
        }
      },
      "source": [
        "input_token_index = dict([(char, i) for i, char in enumerate(input_characters)])\n",
        "target_token_index = dict([(char, i) for i, char in enumerate(target_characters)])\n",
        "print(input_token_index)"
      ],
      "execution_count": 24,
      "outputs": [
        {
          "output_type": "stream",
          "text": [
            "{' ': 0, '!': 1, '\"': 2, '$': 3, \"'\": 4, ',': 5, '-': 6, '.': 7, '0': 8, '1': 9, '2': 10, '3': 11, '4': 12, '5': 13, '6': 14, '7': 15, '8': 16, '9': 17, ':': 18, '?': 19, 'A': 20, 'B': 21, 'C': 22, 'D': 23, 'E': 24, 'F': 25, 'G': 26, 'H': 27, 'I': 28, 'J': 29, 'K': 30, 'L': 31, 'M': 32, 'N': 33, 'O': 34, 'P': 35, 'Q': 36, 'R': 37, 'S': 38, 'T': 39, 'U': 40, 'V': 41, 'W': 42, 'Y': 43, 'a': 44, 'b': 45, 'c': 46, 'd': 47, 'e': 48, 'f': 49, 'g': 50, 'h': 51, 'i': 52, 'j': 53, 'k': 54, 'l': 55, 'm': 56, 'n': 57, 'o': 58, 'p': 59, 'q': 60, 'r': 61, 's': 62, 't': 63, 'u': 64, 'v': 65, 'w': 66, 'x': 67, 'y': 68, 'z': 69}\n"
          ],
          "name": "stdout"
        }
      ]
    },
    {
      "cell_type": "code",
      "metadata": {
        "id": "ffOHcX9ZSWdf",
        "outputId": "146b608b-9876-47ac-8334-5114db3c44ac",
        "colab": {
          "base_uri": "https://localhost:8080/"
        }
      },
      "source": [
        "target_token_index"
      ],
      "execution_count": 25,
      "outputs": [
        {
          "output_type": "execute_result",
          "data": {
            "text/plain": [
              "{'\\t': 0,\n",
              " '\\n': 1,\n",
              " ' ': 2,\n",
              " '!': 3,\n",
              " '\"': 4,\n",
              " '(': 5,\n",
              " ')': 6,\n",
              " ',': 7,\n",
              " '-': 8,\n",
              " '.': 9,\n",
              " ':': 10,\n",
              " '?': 11,\n",
              " 'A': 12,\n",
              " 'B': 13,\n",
              " 'I': 14,\n",
              " '|': 15,\n",
              " 'ँ': 16,\n",
              " 'ं': 17,\n",
              " 'ः': 18,\n",
              " 'अ': 19,\n",
              " 'आ': 20,\n",
              " 'इ': 21,\n",
              " 'ई': 22,\n",
              " 'उ': 23,\n",
              " 'ऊ': 24,\n",
              " 'ऋ': 25,\n",
              " 'ए': 26,\n",
              " 'ऐ': 27,\n",
              " 'ऑ': 28,\n",
              " 'ओ': 29,\n",
              " 'औ': 30,\n",
              " 'क': 31,\n",
              " 'ख': 32,\n",
              " 'ग': 33,\n",
              " 'घ': 34,\n",
              " 'च': 35,\n",
              " 'छ': 36,\n",
              " 'ज': 37,\n",
              " 'झ': 38,\n",
              " 'ञ': 39,\n",
              " 'ट': 40,\n",
              " 'ठ': 41,\n",
              " 'ड': 42,\n",
              " 'ढ': 43,\n",
              " 'ण': 44,\n",
              " 'त': 45,\n",
              " 'थ': 46,\n",
              " 'द': 47,\n",
              " 'ध': 48,\n",
              " 'न': 49,\n",
              " 'प': 50,\n",
              " 'फ': 51,\n",
              " 'ब': 52,\n",
              " 'भ': 53,\n",
              " 'म': 54,\n",
              " 'य': 55,\n",
              " 'र': 56,\n",
              " 'ल': 57,\n",
              " 'व': 58,\n",
              " 'श': 59,\n",
              " 'ष': 60,\n",
              " 'स': 61,\n",
              " 'ह': 62,\n",
              " '़': 63,\n",
              " 'ा': 64,\n",
              " 'ि': 65,\n",
              " 'ी': 66,\n",
              " 'ु': 67,\n",
              " 'ू': 68,\n",
              " 'ृ': 69,\n",
              " 'ॅ': 70,\n",
              " 'े': 71,\n",
              " 'ै': 72,\n",
              " 'ॉ': 73,\n",
              " 'ो': 74,\n",
              " 'ौ': 75,\n",
              " '्': 76,\n",
              " '।': 77,\n",
              " '०': 78,\n",
              " '१': 79,\n",
              " '२': 80,\n",
              " '४': 81,\n",
              " '५': 82,\n",
              " '६': 83,\n",
              " '७': 84,\n",
              " '८': 85,\n",
              " '९': 86,\n",
              " '\\u200d': 87}"
            ]
          },
          "metadata": {
            "tags": []
          },
          "execution_count": 25
        }
      ]
    },
    {
      "cell_type": "code",
      "metadata": {
        "id": "HKSNLBlESWf1"
      },
      "source": [
        "encoder_input_data = np.zeros(\n",
        "    (len(input_texts), max_encoder_seq_length, num_encoder_tokens), dtype=\"float32\"\n",
        ")\n",
        "decoder_input_data = np.zeros(\n",
        "    (len(input_texts), max_decoder_seq_length, num_decoder_tokens), dtype=\"float32\"\n",
        ")\n",
        "decoder_target_data = np.zeros(\n",
        "    (len(input_texts), max_decoder_seq_length, num_decoder_tokens), dtype=\"float32\"\n",
        ")"
      ],
      "execution_count": 27,
      "outputs": []
    },
    {
      "cell_type": "code",
      "metadata": {
        "id": "DaFYO9nHgWt-"
      },
      "source": [
        "for i, (input_text, target_text) in enumerate(zip(input_texts, target_texts)):\n",
        "    for t, char in enumerate(input_text):\n",
        "        encoder_input_data[i, t, input_token_index[char]] = 1.0\n",
        "    encoder_input_data[i, t + 1 :, input_token_index[\" \"]] = 1.0\n",
        "    for t, char in enumerate(target_text):\n",
        "        # decoder_target_data is ahead of decoder_input_data by one timestep\n",
        "        decoder_input_data[i, t, target_token_index[char]] = 1.0\n",
        "        if t > 0:\n",
        "            # decoder_target_data will be ahead by one timestep\n",
        "            # and will not include the start character.\n",
        "            decoder_target_data[i, t - 1, target_token_index[char]] = 1.0\n",
        "    decoder_input_data[i, t + 1 :, target_token_index[\" \"]] = 1.0\n",
        "    decoder_target_data[i, t:, target_token_index[\" \"]] = 1.0"
      ],
      "execution_count": 30,
      "outputs": []
    },
    {
      "cell_type": "code",
      "metadata": {
        "id": "AXl289zLgWxE"
      },
      "source": [
        "# Define an input sequence and process it.\n",
        "encoder_inputs = keras.Input(shape=(None, num_encoder_tokens))\n",
        "encoder = keras.layers.LSTM(latent_dim, return_state=True)\n",
        "encoder_outputs, state_h, state_c = encoder(encoder_inputs)\n",
        "\n",
        "# We discard `encoder_outputs` and only keep the states.\n",
        "encoder_states = [state_h, state_c]\n",
        "\n",
        "# Set up the decoder, using `encoder_states` as initial state.\n",
        "decoder_inputs = keras.Input(shape=(None, num_decoder_tokens))\n",
        "\n",
        "# We set up our decoder to return full output sequences,\n",
        "# and to return internal states as well. We don't use the\n",
        "# return states in the training model, but we will use them in inference.\n",
        "decoder_lstm = keras.layers.LSTM(latent_dim, return_sequences=True, return_state=True)\n",
        "decoder_outputs, _, _ = decoder_lstm(decoder_inputs, initial_state=encoder_states)\n",
        "decoder_dense = keras.layers.Dense(num_decoder_tokens, activation=\"softmax\")\n",
        "decoder_outputs = decoder_dense(decoder_outputs)\n",
        "\n",
        "# Define the model that will turn\n",
        "# `encoder_input_data` & `decoder_input_data` into `decoder_target_data`\n",
        "model = keras.Model([encoder_inputs, decoder_inputs], decoder_outputs)"
      ],
      "execution_count": 31,
      "outputs": []
    },
    {
      "cell_type": "code",
      "metadata": {
        "id": "sdOWZwSQgWzo",
        "outputId": "cae9ab27-ce4e-4019-9280-f26263c97f6e",
        "colab": {
          "base_uri": "https://localhost:8080/"
        }
      },
      "source": [
        "model.compile(\n",
        "    optimizer=\"rmsprop\", loss=\"categorical_crossentropy\", metrics=[\"accuracy\"]\n",
        ")\n",
        "model.fit(\n",
        "    [encoder_input_data, decoder_input_data],\n",
        "    decoder_target_data,\n",
        "    batch_size=batch_size,\n",
        "    epochs=epochs,\n",
        "    validation_split=0.2,\n",
        ")\n",
        "# Save model\n",
        "model.save(\"s2s\")\n"
      ],
      "execution_count": 32,
      "outputs": [
        {
          "output_type": "stream",
          "text": [
            "Epoch 1/100\n",
            "35/35 [==============================] - 37s 1s/step - loss: 1.2718 - accuracy: 0.7864 - val_loss: 1.4961 - val_accuracy: 0.6892\n",
            "Epoch 2/100\n",
            "35/35 [==============================] - 37s 1s/step - loss: 0.9335 - accuracy: 0.8077 - val_loss: 1.3532 - val_accuracy: 0.6896\n",
            "Epoch 3/100\n",
            "35/35 [==============================] - 37s 1s/step - loss: 0.8432 - accuracy: 0.8086 - val_loss: 1.4050 - val_accuracy: 0.6897\n",
            "Epoch 4/100\n",
            "35/35 [==============================] - 37s 1s/step - loss: 0.8032 - accuracy: 0.8103 - val_loss: 1.3694 - val_accuracy: 0.6909\n",
            "Epoch 5/100\n",
            "35/35 [==============================] - 37s 1s/step - loss: 0.7634 - accuracy: 0.8121 - val_loss: 1.2695 - val_accuracy: 0.6932\n",
            "Epoch 6/100\n",
            "35/35 [==============================] - 37s 1s/step - loss: 0.7499 - accuracy: 0.8187 - val_loss: 1.1706 - val_accuracy: 0.6998\n",
            "Epoch 7/100\n",
            "35/35 [==============================] - 38s 1s/step - loss: 0.6783 - accuracy: 0.8329 - val_loss: 1.1148 - val_accuracy: 0.7228\n",
            "Epoch 8/100\n",
            "35/35 [==============================] - 37s 1s/step - loss: 0.6196 - accuracy: 0.8434 - val_loss: 1.0911 - val_accuracy: 0.7220\n",
            "Epoch 9/100\n",
            "35/35 [==============================] - 37s 1s/step - loss: 0.5849 - accuracy: 0.8496 - val_loss: 0.9812 - val_accuracy: 0.7430\n",
            "Epoch 10/100\n",
            "35/35 [==============================] - 37s 1s/step - loss: 0.5687 - accuracy: 0.8538 - val_loss: 0.9616 - val_accuracy: 0.7476\n",
            "Epoch 11/100\n",
            "35/35 [==============================] - 38s 1s/step - loss: 0.5364 - accuracy: 0.8599 - val_loss: 0.9234 - val_accuracy: 0.7590\n",
            "Epoch 12/100\n",
            "35/35 [==============================] - 38s 1s/step - loss: 0.5200 - accuracy: 0.8630 - val_loss: 2.0409 - val_accuracy: 0.6880\n",
            "Epoch 13/100\n",
            "35/35 [==============================] - 38s 1s/step - loss: 0.5441 - accuracy: 0.8647 - val_loss: 0.8863 - val_accuracy: 0.7653\n",
            "Epoch 14/100\n",
            "35/35 [==============================] - 38s 1s/step - loss: 0.4944 - accuracy: 0.8690 - val_loss: 0.8698 - val_accuracy: 0.7680\n",
            "Epoch 15/100\n",
            "35/35 [==============================] - 38s 1s/step - loss: 0.4875 - accuracy: 0.8701 - val_loss: 0.8758 - val_accuracy: 0.7656\n",
            "Epoch 16/100\n",
            "35/35 [==============================] - 37s 1s/step - loss: 0.4798 - accuracy: 0.8715 - val_loss: 0.8608 - val_accuracy: 0.7720\n",
            "Epoch 17/100\n",
            "35/35 [==============================] - 37s 1s/step - loss: 0.4711 - accuracy: 0.8734 - val_loss: 0.8550 - val_accuracy: 0.7746\n",
            "Epoch 18/100\n",
            "35/35 [==============================] - 37s 1s/step - loss: 0.4623 - accuracy: 0.8749 - val_loss: 0.8513 - val_accuracy: 0.7714\n",
            "Epoch 19/100\n",
            "35/35 [==============================] - 37s 1s/step - loss: 0.4551 - accuracy: 0.8762 - val_loss: 0.8502 - val_accuracy: 0.7726\n",
            "Epoch 20/100\n",
            "35/35 [==============================] - 37s 1s/step - loss: 0.4480 - accuracy: 0.8773 - val_loss: 0.8091 - val_accuracy: 0.7813\n",
            "Epoch 21/100\n",
            "35/35 [==============================] - 37s 1s/step - loss: 0.4392 - accuracy: 0.8794 - val_loss: 0.8032 - val_accuracy: 0.7806\n",
            "Epoch 22/100\n",
            "35/35 [==============================] - 37s 1s/step - loss: 0.4328 - accuracy: 0.8801 - val_loss: 0.7948 - val_accuracy: 0.7829\n",
            "Epoch 23/100\n",
            "35/35 [==============================] - 37s 1s/step - loss: 0.4254 - accuracy: 0.8823 - val_loss: 0.7989 - val_accuracy: 0.7821\n",
            "Epoch 24/100\n",
            "35/35 [==============================] - 37s 1s/step - loss: 0.4191 - accuracy: 0.8835 - val_loss: 0.7834 - val_accuracy: 0.7857\n",
            "Epoch 25/100\n",
            "35/35 [==============================] - 37s 1s/step - loss: 0.4126 - accuracy: 0.8847 - val_loss: 0.7889 - val_accuracy: 0.7837\n",
            "Epoch 26/100\n",
            "35/35 [==============================] - 37s 1s/step - loss: 0.4076 - accuracy: 0.8861 - val_loss: 0.7799 - val_accuracy: 0.7854\n",
            "Epoch 27/100\n",
            "35/35 [==============================] - 37s 1s/step - loss: 0.4011 - accuracy: 0.8878 - val_loss: 0.7727 - val_accuracy: 0.7894\n",
            "Epoch 28/100\n",
            "35/35 [==============================] - 37s 1s/step - loss: 0.3965 - accuracy: 0.8889 - val_loss: 0.7682 - val_accuracy: 0.7886\n",
            "Epoch 29/100\n",
            "35/35 [==============================] - 37s 1s/step - loss: 0.3906 - accuracy: 0.8902 - val_loss: 0.7614 - val_accuracy: 0.7918\n",
            "Epoch 30/100\n",
            "35/35 [==============================] - 37s 1s/step - loss: 0.3853 - accuracy: 0.8916 - val_loss: 0.7645 - val_accuracy: 0.7913\n",
            "Epoch 31/100\n",
            "35/35 [==============================] - 37s 1s/step - loss: 0.3798 - accuracy: 0.8929 - val_loss: 0.7654 - val_accuracy: 0.7928\n",
            "Epoch 32/100\n",
            "35/35 [==============================] - 37s 1s/step - loss: 0.3743 - accuracy: 0.8944 - val_loss: 0.7589 - val_accuracy: 0.7931\n",
            "Epoch 33/100\n",
            "35/35 [==============================] - 37s 1s/step - loss: 0.3677 - accuracy: 0.8963 - val_loss: 0.7586 - val_accuracy: 0.7931\n",
            "Epoch 34/100\n",
            "35/35 [==============================] - 37s 1s/step - loss: 0.3618 - accuracy: 0.8982 - val_loss: 0.7588 - val_accuracy: 0.7934\n",
            "Epoch 35/100\n",
            "35/35 [==============================] - 37s 1s/step - loss: 0.3566 - accuracy: 0.8995 - val_loss: 0.7518 - val_accuracy: 0.7964\n",
            "Epoch 36/100\n",
            "35/35 [==============================] - 37s 1s/step - loss: 0.3512 - accuracy: 0.9010 - val_loss: 0.7554 - val_accuracy: 0.7958\n",
            "Epoch 37/100\n",
            "35/35 [==============================] - 37s 1s/step - loss: 0.3457 - accuracy: 0.9022 - val_loss: 0.7659 - val_accuracy: 0.7930\n",
            "Epoch 38/100\n",
            "35/35 [==============================] - 36s 1s/step - loss: 0.3403 - accuracy: 0.9040 - val_loss: 0.7482 - val_accuracy: 0.7971\n",
            "Epoch 39/100\n",
            "35/35 [==============================] - 37s 1s/step - loss: 0.3358 - accuracy: 0.9052 - val_loss: 0.7607 - val_accuracy: 0.7955\n",
            "Epoch 40/100\n",
            "35/35 [==============================] - 37s 1s/step - loss: 0.3307 - accuracy: 0.9064 - val_loss: 0.7620 - val_accuracy: 0.7942\n",
            "Epoch 41/100\n",
            "35/35 [==============================] - 37s 1s/step - loss: 0.3249 - accuracy: 0.9082 - val_loss: 0.7597 - val_accuracy: 0.7968\n",
            "Epoch 42/100\n",
            "35/35 [==============================] - 37s 1s/step - loss: 0.3192 - accuracy: 0.9100 - val_loss: 0.7654 - val_accuracy: 0.7956\n",
            "Epoch 43/100\n",
            "35/35 [==============================] - 37s 1s/step - loss: 0.3142 - accuracy: 0.9113 - val_loss: 0.7673 - val_accuracy: 0.7968\n",
            "Epoch 44/100\n",
            "35/35 [==============================] - 37s 1s/step - loss: 0.3091 - accuracy: 0.9125 - val_loss: 0.7787 - val_accuracy: 0.7952\n",
            "Epoch 45/100\n",
            "35/35 [==============================] - 37s 1s/step - loss: 0.3051 - accuracy: 0.9138 - val_loss: 0.7742 - val_accuracy: 0.7949\n",
            "Epoch 46/100\n",
            "35/35 [==============================] - 37s 1s/step - loss: 0.3042 - accuracy: 0.9142 - val_loss: 0.7705 - val_accuracy: 0.7956\n",
            "Epoch 47/100\n",
            "35/35 [==============================] - 37s 1s/step - loss: 0.2964 - accuracy: 0.9163 - val_loss: 0.7797 - val_accuracy: 0.7951\n",
            "Epoch 48/100\n",
            "35/35 [==============================] - 37s 1s/step - loss: 0.2906 - accuracy: 0.9180 - val_loss: 0.7791 - val_accuracy: 0.7959\n",
            "Epoch 49/100\n",
            "35/35 [==============================] - 37s 1s/step - loss: 0.2837 - accuracy: 0.9199 - val_loss: 0.7813 - val_accuracy: 0.7958\n",
            "Epoch 50/100\n",
            "35/35 [==============================] - 37s 1s/step - loss: 0.2787 - accuracy: 0.9216 - val_loss: 0.8062 - val_accuracy: 0.7912\n",
            "Epoch 51/100\n",
            "35/35 [==============================] - 37s 1s/step - loss: 0.2740 - accuracy: 0.9230 - val_loss: 0.8012 - val_accuracy: 0.7935\n",
            "Epoch 52/100\n",
            "35/35 [==============================] - 37s 1s/step - loss: 0.2687 - accuracy: 0.9246 - val_loss: 0.8045 - val_accuracy: 0.7936\n",
            "Epoch 53/100\n",
            "35/35 [==============================] - 37s 1s/step - loss: 0.2645 - accuracy: 0.9255 - val_loss: 0.8089 - val_accuracy: 0.7936\n",
            "Epoch 54/100\n",
            "35/35 [==============================] - 37s 1s/step - loss: 0.2591 - accuracy: 0.9272 - val_loss: 0.8089 - val_accuracy: 0.7943\n",
            "Epoch 55/100\n",
            "35/35 [==============================] - 37s 1s/step - loss: 0.2545 - accuracy: 0.9289 - val_loss: 0.8202 - val_accuracy: 0.7917\n",
            "Epoch 56/100\n",
            "35/35 [==============================] - 37s 1s/step - loss: 0.2974 - accuracy: 0.9212 - val_loss: 0.8252 - val_accuracy: 0.7928\n",
            "Epoch 57/100\n",
            "35/35 [==============================] - 37s 1s/step - loss: 0.2398 - accuracy: 0.9337 - val_loss: 0.8353 - val_accuracy: 0.7915\n",
            "Epoch 58/100\n",
            "35/35 [==============================] - 37s 1s/step - loss: 0.2424 - accuracy: 0.9321 - val_loss: 0.8402 - val_accuracy: 0.7890\n",
            "Epoch 59/100\n",
            "35/35 [==============================] - 37s 1s/step - loss: 0.2399 - accuracy: 0.9334 - val_loss: 0.8481 - val_accuracy: 0.7895\n",
            "Epoch 60/100\n",
            "35/35 [==============================] - 37s 1s/step - loss: 0.2372 - accuracy: 0.9335 - val_loss: 0.8555 - val_accuracy: 0.7917\n",
            "Epoch 61/100\n",
            "35/35 [==============================] - 37s 1s/step - loss: 0.2326 - accuracy: 0.9349 - val_loss: 0.8499 - val_accuracy: 0.7909\n",
            "Epoch 62/100\n",
            "35/35 [==============================] - 37s 1s/step - loss: 0.2287 - accuracy: 0.9359 - val_loss: 0.8637 - val_accuracy: 0.7903\n",
            "Epoch 63/100\n",
            "35/35 [==============================] - 37s 1s/step - loss: 0.2241 - accuracy: 0.9377 - val_loss: 0.8621 - val_accuracy: 0.7894\n",
            "Epoch 64/100\n",
            "35/35 [==============================] - 37s 1s/step - loss: 0.2198 - accuracy: 0.9389 - val_loss: 0.8803 - val_accuracy: 0.7886\n",
            "Epoch 65/100\n",
            "35/35 [==============================] - 37s 1s/step - loss: 0.2163 - accuracy: 0.9399 - val_loss: 0.8859 - val_accuracy: 0.7872\n",
            "Epoch 66/100\n",
            "35/35 [==============================] - 37s 1s/step - loss: 0.2115 - accuracy: 0.9418 - val_loss: 0.8915 - val_accuracy: 0.7881\n",
            "Epoch 67/100\n",
            "35/35 [==============================] - 37s 1s/step - loss: 0.2041 - accuracy: 0.9441 - val_loss: 0.9119 - val_accuracy: 0.7870\n",
            "Epoch 68/100\n",
            "35/35 [==============================] - 37s 1s/step - loss: 0.2048 - accuracy: 0.9434 - val_loss: 0.9113 - val_accuracy: 0.7862\n",
            "Epoch 69/100\n",
            "35/35 [==============================] - 37s 1s/step - loss: 0.2029 - accuracy: 0.9437 - val_loss: 0.9082 - val_accuracy: 0.7865\n",
            "Epoch 70/100\n",
            "35/35 [==============================] - 37s 1s/step - loss: 0.1987 - accuracy: 0.9449 - val_loss: 0.9196 - val_accuracy: 0.7882\n",
            "Epoch 71/100\n",
            "35/35 [==============================] - 37s 1s/step - loss: 0.1950 - accuracy: 0.9463 - val_loss: 0.9329 - val_accuracy: 0.7851\n",
            "Epoch 72/100\n",
            "35/35 [==============================] - 37s 1s/step - loss: 0.1920 - accuracy: 0.9472 - val_loss: 0.9500 - val_accuracy: 0.7850\n",
            "Epoch 73/100\n",
            "35/35 [==============================] - 37s 1s/step - loss: 0.1879 - accuracy: 0.9482 - val_loss: 0.9413 - val_accuracy: 0.7866\n",
            "Epoch 74/100\n",
            "35/35 [==============================] - 37s 1s/step - loss: 0.1846 - accuracy: 0.9495 - val_loss: 0.9600 - val_accuracy: 0.7848\n",
            "Epoch 75/100\n",
            "35/35 [==============================] - 37s 1s/step - loss: 0.1814 - accuracy: 0.9503 - val_loss: 0.9509 - val_accuracy: 0.7854\n",
            "Epoch 76/100\n",
            "35/35 [==============================] - 37s 1s/step - loss: 0.1796 - accuracy: 0.9506 - val_loss: 0.9545 - val_accuracy: 0.7859\n",
            "Epoch 77/100\n",
            "35/35 [==============================] - 37s 1s/step - loss: 0.1769 - accuracy: 0.9519 - val_loss: 0.9866 - val_accuracy: 0.7835\n",
            "Epoch 78/100\n",
            "35/35 [==============================] - 37s 1s/step - loss: 0.1725 - accuracy: 0.9530 - val_loss: 0.9860 - val_accuracy: 0.7844\n",
            "Epoch 79/100\n",
            "35/35 [==============================] - 37s 1s/step - loss: 0.1690 - accuracy: 0.9541 - val_loss: 0.9894 - val_accuracy: 0.7836\n",
            "Epoch 80/100\n",
            "35/35 [==============================] - 37s 1s/step - loss: 0.1667 - accuracy: 0.9549 - val_loss: 0.9953 - val_accuracy: 0.7835\n",
            "Epoch 81/100\n",
            "35/35 [==============================] - 37s 1s/step - loss: 0.1630 - accuracy: 0.9560 - val_loss: 1.0126 - val_accuracy: 0.7827\n",
            "Epoch 82/100\n",
            "35/35 [==============================] - 37s 1s/step - loss: 0.1624 - accuracy: 0.9564 - val_loss: 1.0044 - val_accuracy: 0.7840\n",
            "Epoch 83/100\n",
            "35/35 [==============================] - 37s 1s/step - loss: 0.1595 - accuracy: 0.9568 - val_loss: 1.0254 - val_accuracy: 0.7823\n",
            "Epoch 84/100\n",
            "35/35 [==============================] - 37s 1s/step - loss: 0.1568 - accuracy: 0.9575 - val_loss: 1.0227 - val_accuracy: 0.7838\n",
            "Epoch 85/100\n",
            "35/35 [==============================] - 37s 1s/step - loss: 0.1649 - accuracy: 0.9546 - val_loss: 1.0290 - val_accuracy: 0.7819\n",
            "Epoch 86/100\n",
            "35/35 [==============================] - 37s 1s/step - loss: 0.1659 - accuracy: 0.9543 - val_loss: 1.0086 - val_accuracy: 0.7850\n",
            "Epoch 87/100\n",
            "35/35 [==============================] - 37s 1s/step - loss: 0.1594 - accuracy: 0.9567 - val_loss: 1.0235 - val_accuracy: 0.7812\n",
            "Epoch 88/100\n",
            "35/35 [==============================] - 37s 1s/step - loss: 0.1535 - accuracy: 0.9587 - val_loss: 1.0399 - val_accuracy: 0.7817\n",
            "Epoch 89/100\n",
            "35/35 [==============================] - 38s 1s/step - loss: 0.1506 - accuracy: 0.9593 - val_loss: 1.0618 - val_accuracy: 0.7813\n",
            "Epoch 90/100\n",
            "35/35 [==============================] - 37s 1s/step - loss: 0.1484 - accuracy: 0.9600 - val_loss: 1.0663 - val_accuracy: 0.7811\n",
            "Epoch 91/100\n",
            "35/35 [==============================] - 37s 1s/step - loss: 0.1462 - accuracy: 0.9606 - val_loss: 1.0654 - val_accuracy: 0.7817\n",
            "Epoch 92/100\n",
            "35/35 [==============================] - 37s 1s/step - loss: 0.1421 - accuracy: 0.9618 - val_loss: 1.0809 - val_accuracy: 0.7817\n",
            "Epoch 93/100\n",
            "35/35 [==============================] - 37s 1s/step - loss: 0.1395 - accuracy: 0.9624 - val_loss: 1.0842 - val_accuracy: 0.7816\n",
            "Epoch 94/100\n",
            "35/35 [==============================] - 37s 1s/step - loss: 0.1368 - accuracy: 0.9638 - val_loss: 1.0965 - val_accuracy: 0.7813\n",
            "Epoch 95/100\n",
            "35/35 [==============================] - 37s 1s/step - loss: 0.1352 - accuracy: 0.9637 - val_loss: 1.1095 - val_accuracy: 0.7805\n",
            "Epoch 96/100\n",
            "35/35 [==============================] - 37s 1s/step - loss: 0.1380 - accuracy: 0.9634 - val_loss: 1.1124 - val_accuracy: 0.7802\n",
            "Epoch 97/100\n",
            "35/35 [==============================] - 38s 1s/step - loss: 0.1324 - accuracy: 0.9647 - val_loss: 1.1129 - val_accuracy: 0.7802\n",
            "Epoch 98/100\n",
            "35/35 [==============================] - 37s 1s/step - loss: 0.1292 - accuracy: 0.9653 - val_loss: 1.1295 - val_accuracy: 0.7801\n",
            "Epoch 99/100\n",
            "35/35 [==============================] - 37s 1s/step - loss: 0.1278 - accuracy: 0.9660 - val_loss: 1.1220 - val_accuracy: 0.7796\n",
            "Epoch 100/100\n",
            "35/35 [==============================] - 37s 1s/step - loss: 0.1263 - accuracy: 0.9664 - val_loss: 1.1308 - val_accuracy: 0.7805\n",
            "WARNING:tensorflow:From /usr/local/lib/python3.6/dist-packages/tensorflow/python/training/tracking/tracking.py:111: Model.state_updates (from tensorflow.python.keras.engine.training) is deprecated and will be removed in a future version.\n",
            "Instructions for updating:\n",
            "This property should not be used in TensorFlow 2.0, as updates are applied automatically.\n",
            "WARNING:tensorflow:From /usr/local/lib/python3.6/dist-packages/tensorflow/python/training/tracking/tracking.py:111: Layer.updates (from tensorflow.python.keras.engine.base_layer) is deprecated and will be removed in a future version.\n",
            "Instructions for updating:\n",
            "This property should not be used in TensorFlow 2.0, as updates are applied automatically.\n",
            "INFO:tensorflow:Assets written to: s2s/assets\n"
          ],
          "name": "stdout"
        }
      ]
    },
    {
      "cell_type": "code",
      "metadata": {
        "id": "Hog0JiztgW2J"
      },
      "source": [
        "# Restore the model and construct the encoder and decoder.\n",
        "model = keras.models.load_model(\"s2s\")\n",
        "\n",
        "encoder_inputs = model.input[0]  # input_1\n",
        "encoder_outputs, state_h_enc, state_c_enc = model.layers[2].output  # lstm_1\n",
        "encoder_states = [state_h_enc, state_c_enc]\n",
        "encoder_model = keras.Model(encoder_inputs, encoder_states)\n",
        "\n",
        "decoder_inputs = model.input[1]  # input_2\n",
        "decoder_state_input_h = keras.Input(shape=(latent_dim,), name=\"input_3\")\n",
        "decoder_state_input_c = keras.Input(shape=(latent_dim,), name=\"input_4\")\n",
        "decoder_states_inputs = [decoder_state_input_h, decoder_state_input_c]\n",
        "decoder_lstm = model.layers[3]\n",
        "decoder_outputs, state_h_dec, state_c_dec = decoder_lstm(\n",
        "    decoder_inputs, initial_state=decoder_states_inputs\n",
        ")\n",
        "decoder_states = [state_h_dec, state_c_dec]\n",
        "decoder_dense = model.layers[4]\n",
        "decoder_outputs = decoder_dense(decoder_outputs)\n",
        "decoder_model = keras.Model(\n",
        "    [decoder_inputs] + decoder_states_inputs, [decoder_outputs] + decoder_states\n",
        ")\n",
        "\n",
        "# Reverse-lookup token index to decode sequences back to\n",
        "# something readable.\n",
        "reverse_input_char_index = dict((i, char) for char, i in input_token_index.items())\n",
        "reverse_target_char_index = dict((i, char) for char, i in target_token_index.items())\n",
        "\n",
        "\n",
        "def decode_sequence(input_seq):\n",
        "    # Encode the input as state vectors.\n",
        "    states_value = encoder_model.predict(input_seq)\n",
        "\n",
        "    # Generate empty target sequence of length 1.\n",
        "    target_seq = np.zeros((1, 1, num_decoder_tokens))\n",
        "    # Populate the first character of target sequence with the start character.\n",
        "    target_seq[0, 0, target_token_index[\"\\t\"]] = 1.0\n",
        "\n",
        "    # Sampling loop for a batch of sequences\n",
        "    # (to simplify, here we assume a batch of size 1).\n",
        "    stop_condition = False\n",
        "    decoded_sentence = \"\"\n",
        "    while not stop_condition:\n",
        "        output_tokens, h, c = decoder_model.predict([target_seq] + states_value)\n",
        "\n",
        "        # Sample a token\n",
        "        sampled_token_index = np.argmax(output_tokens[0, -1, :])\n",
        "        sampled_char = reverse_target_char_index[sampled_token_index]\n",
        "        decoded_sentence += sampled_char\n",
        "\n",
        "        # Exit condition: either hit max length\n",
        "        # or find stop character.\n",
        "        if sampled_char == \"\\n\" or len(decoded_sentence) > max_decoder_seq_length:\n",
        "            stop_condition = True\n",
        "\n",
        "        # Update the target sequence (of length 1).\n",
        "        target_seq = np.zeros((1, 1, num_decoder_tokens))\n",
        "        target_seq[0, 0, sampled_token_index] = 1.0\n",
        "\n",
        "        # Update states\n",
        "        states_value = [h, c]\n",
        "    return decoded_sentence"
      ],
      "execution_count": 33,
      "outputs": []
    },
    {
      "cell_type": "code",
      "metadata": {
        "id": "iX0Qhv2EgbEk"
      },
      "source": [
        "for seq_index in range(20):\n",
        "    # Take one sequence (part of the training set)\n",
        "    # for trying out decoding.\n",
        "    input_seq = encoder_input_data[seq_index : seq_index + 1]\n",
        "    decoded_sentence = decode_sequence(input_seq)\n",
        "    print(\"-\")\n",
        "    print(\"Input sentence:\", input_texts[seq_index])\n",
        "    print(\"Decoded sentence:\", decoded_sentence)"
      ],
      "execution_count": null,
      "outputs": []
    },
    {
      "cell_type": "code",
      "metadata": {
        "id": "uEAIh72MgbI7"
      },
      "source": [
        ""
      ],
      "execution_count": null,
      "outputs": []
    },
    {
      "cell_type": "code",
      "metadata": {
        "id": "5wawd7CSgbQM"
      },
      "source": [
        ""
      ],
      "execution_count": null,
      "outputs": []
    },
    {
      "cell_type": "code",
      "metadata": {
        "id": "zgdWIERvgbTE"
      },
      "source": [
        ""
      ],
      "execution_count": null,
      "outputs": []
    },
    {
      "cell_type": "code",
      "metadata": {
        "id": "NqkcRWAogbWY"
      },
      "source": [
        ""
      ],
      "execution_count": null,
      "outputs": []
    },
    {
      "cell_type": "code",
      "metadata": {
        "id": "OsiP65PRgbY0"
      },
      "source": [
        ""
      ],
      "execution_count": null,
      "outputs": []
    },
    {
      "cell_type": "code",
      "metadata": {
        "id": "cLk3gCEogbbz"
      },
      "source": [
        ""
      ],
      "execution_count": null,
      "outputs": []
    },
    {
      "cell_type": "code",
      "metadata": {
        "id": "w-r4BZVdgbel"
      },
      "source": [
        ""
      ],
      "execution_count": null,
      "outputs": []
    },
    {
      "cell_type": "code",
      "metadata": {
        "id": "99lHr65rgbg_"
      },
      "source": [
        ""
      ],
      "execution_count": null,
      "outputs": []
    },
    {
      "cell_type": "code",
      "metadata": {
        "id": "-dUer463gbkM"
      },
      "source": [
        ""
      ],
      "execution_count": null,
      "outputs": []
    },
    {
      "cell_type": "code",
      "metadata": {
        "id": "As6J_9PUgbsA"
      },
      "source": [
        ""
      ],
      "execution_count": null,
      "outputs": []
    },
    {
      "cell_type": "code",
      "metadata": {
        "id": "YT3qcOUkgbuf"
      },
      "source": [
        ""
      ],
      "execution_count": null,
      "outputs": []
    },
    {
      "cell_type": "code",
      "metadata": {
        "id": "Jkmwd6roSWiF"
      },
      "source": [
        ""
      ],
      "execution_count": null,
      "outputs": []
    }
  ]
}